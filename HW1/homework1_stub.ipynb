{
  "cells": [
    {
      "cell_type": "markdown",
      "metadata": {
        "id": "A4Noe1awjmn2"
      },
      "source": [
        "# Homework 1: Sine wave generation and binary classification"
      ]
    },
    {
      "cell_type": "markdown",
      "metadata": {
        "id": "irV3bP4Vjmn9"
      },
      "source": [
        "## Part A - Sine Wave Generation"
      ]
    },
    {
      "cell_type": "markdown",
      "metadata": {
        "id": "6JmYeu-Kjmn_"
      },
      "source": [
        "### Setup\n",
        "To complete this part, install the required Python libraries:"
      ]
    },
    {
      "cell_type": "code",
      "execution_count": 4,
      "metadata": {
        "colab": {
          "base_uri": "https://localhost:8080/"
        },
        "id": "Wke5ENgClECJ",
        "outputId": "f5a012b0-6a03-4b68-d657-5d7108f067d0"
      },
      "outputs": [
        {
          "name": "stdout",
          "output_type": "stream",
          "text": [
            "Collecting mido\n",
            "  Downloading mido-1.3.3-py3-none-any.whl.metadata (6.4 kB)\n",
            "Requirement already satisfied: packaging in /usr/local/lib/python3.11/dist-packages (from mido) (24.2)\n",
            "Downloading mido-1.3.3-py3-none-any.whl (54 kB)\n",
            "\u001b[?25l   \u001b[90m━━━━━━━━━━━━━━━━━━━━━━━━━━━━━━━━━━━━━━━━\u001b[0m \u001b[32m0.0/54.6 kB\u001b[0m \u001b[31m?\u001b[0m eta \u001b[36m-:--:--\u001b[0m\r\u001b[2K   \u001b[90m━━━━━━━━━━━━━━━━━━━━━━━━━━━━━━━━━━━━━━━━\u001b[0m \u001b[32m54.6/54.6 kB\u001b[0m \u001b[31m2.2 MB/s\u001b[0m eta \u001b[36m0:00:00\u001b[0m\n",
            "\u001b[?25hInstalling collected packages: mido\n",
            "Successfully installed mido-1.3.3\n"
          ]
        }
      ],
      "source": [
        "# comment this out when submitting to gradescope\n",
        "!pip install mido"
      ]
    },
    {
      "cell_type": "code",
      "execution_count": 5,
      "metadata": {
        "id": "hI1lqygrjmoB"
      },
      "outputs": [],
      "source": [
        "import numpy as np\n",
        "from scipy.io import wavfile\n",
        "\n",
        "import numpy as np\n",
        "import glob\n",
        "from mido import MidiFile\n",
        "from sklearn.model_selection import train_test_split\n",
        "from sklearn.linear_model import LogisticRegression\n",
        "from sklearn.metrics import classification_report\n",
        "import math\n",
        "\n",
        "from sklearn.model_selection import train_test_split\n",
        "from sklearn.linear_model import LogisticRegression"
      ]
    },
    {
      "cell_type": "code",
      "execution_count": 6,
      "metadata": {
        "id": "fpqq-YQkjmoE"
      },
      "outputs": [],
      "source": [
        "# (installation process may be different on your system)\n",
        "# You don't need to use these libraries, so long as you implement the specified functions\n",
        "# !pip install numpy\n",
        "# !pip install scipy\n",
        "# !pip install IPython\n",
        "# !pip install glob\n",
        "# !pip install scikit-learn\n",
        "# !pip install mido"
      ]
    },
    {
      "cell_type": "markdown",
      "metadata": {
        "id": "ru7ERAv-jmoF"
      },
      "source": [
        "1. Write a function that converts a musical note name to its corresponding frequency in Hertz (Hz)\n",
        "\n",
        "`note_name_to_frequency()`\n",
        "- **Input**: A string `note_name` combining a note (e.g., `'C'`, `'C#'`, `'D'`, `'D#'`, `'E'`, `'F'`, `'F#'`, `'G'`, `'G#'`, `'A'`, `'A#'`, `'B'`) and an octave number (`'0'` to `'10'`)\n",
        "- **Output**: A float representing the frequency in Hz\n",
        "- **Details**:\n",
        "  - Use A4 = 440 Hz as the reference frequency\n",
        "  - Frequencies double with each octave increase (e.g., A5 = 880 Hz) and halve with each decrease (e.g., A3 = 220 Hz)\n",
        "\n",
        "- **Examples**:\n",
        "  - `'A4'` → `440.0`\n",
        "  - `'A3'` → `220.0`\n",
        "  - `'G#4'` → `415.3047`"
      ]
    },
    {
      "cell_type": "code",
      "execution_count": 7,
      "metadata": {
        "id": "GQV2gMytjmoI"
      },
      "outputs": [],
      "source": [
        "SAMPLE_RATE = 44100\n",
        "\n",
        "def note_name_to_frequency(note_name):\n",
        "    # Q1: Your code goes here\n",
        "\n",
        "    # parse given note_name\n",
        "    octave = int(note_name[-1])\n",
        "    note = note_name[:-1]\n",
        "    if note_name[-2:] == '10':\n",
        "      octave = 10\n",
        "      note = note_name[:-2]\n",
        "\n",
        "    # find MIDI numbers\n",
        "    notes = ['C', 'C#', 'D', 'D#', 'E', 'F', 'F#', 'G', 'G#', 'A', 'A#', 'B']\n",
        "    A4_midi = 69\n",
        "    note_midi = (octave + 1) * len(notes) + notes.index(note)\n",
        "\n",
        "    # calculate frequency\n",
        "    frequency = 440 * 2 ** ((note_midi - A4_midi) / 12)\n",
        "\n",
        "    return frequency"
      ]
    },
    {
      "cell_type": "code",
      "execution_count": 8,
      "metadata": {
        "colab": {
          "base_uri": "https://localhost:8080/"
        },
        "id": "NPTt_EIKo2xl",
        "outputId": "3bb2b46c-ce69-4d6d-ee31-10a9fd24ae5b"
      },
      "outputs": [
        {
          "name": "stdout",
          "output_type": "stream",
          "text": [
            "440.0\n",
            "220.0\n",
            "415.3046975799451\n"
          ]
        }
      ],
      "source": [
        "# sanity check\n",
        "print(note_name_to_frequency('A4'))\n",
        "print(note_name_to_frequency('A3'))\n",
        "print(note_name_to_frequency('G#4'))"
      ]
    },
    {
      "cell_type": "markdown",
      "metadata": {
        "id": "_U-624MUjmoK"
      },
      "source": [
        "2. Write a function that linearly decreases the amplitude of a given waveform\n",
        "\n",
        "`decrease_amplitude()`\n",
        "- **Inputs**:\n",
        "  - `audio`: A NumPy array representing the audio waveform at a sample rate of 44100 Hz\n",
        "- **Output**: A NumPy array representing the audio waveform at a sample rate of 44100 Hz\n",
        "- **Details**:\n",
        "  - The function must linearly decrease the amplitude of the input audio. The amplitude should start at 1 (full volume) and decrease gradually to 0 (silence) by the end of the sample"
      ]
    },
    {
      "cell_type": "code",
      "execution_count": 9,
      "metadata": {
        "id": "8_durVTLjmoK"
      },
      "outputs": [],
      "source": [
        "def decrease_amplitude(audio):\n",
        "    # Q2: Your code goes here\n",
        "\n",
        "    # linspace: https://numpy.org/doc/stable/reference/generated/numpy.linspace.html\n",
        "    multiplier = np.linspace(1, 0, len(audio))\n",
        "\n",
        "    return audio * multiplier"
      ]
    },
    {
      "cell_type": "markdown",
      "metadata": {
        "id": "YNFgvROGjmoM"
      },
      "source": [
        "3. Write a function that adds a delay effect to a given audio where the output is a combination of the original audio and a delayed audio\n",
        "\n",
        "`add_delay_effects()`  \n",
        "- **Inputs**:  \n",
        "  - `audio`: A NumPy array representing the audio waveform, sampled at 44,100 Hz\n",
        "- **Output**:  \n",
        "  - A NumPy array representing the modified audio waveform, sampled at 44,100 Hz\n",
        "- **Details**:\n",
        "  - The amplitude of the delayed audio should be 30% of the original audio's amplitude\n",
        "  - The amplitude of the original audio should be adjusted to 70% of the original audio's amplitude\n",
        "  - The output should combine the original audio (with the adjusted amplitude) with a delayed version of itself\n",
        "  - The delayed audio should be offset by 0.5 seconds behind the original audio\n",
        "\n",
        "- **Examples**:\n",
        "  - The provided files (input.wav and output.wav) provide examples of input and output audio"
      ]
    },
    {
      "cell_type": "code",
      "execution_count": 10,
      "metadata": {
        "id": "Zu2KG4ZqjmoN"
      },
      "outputs": [],
      "source": [
        "# Can use these for visualization if you like, though the autograder won't use ipython\n",
        "#\n",
        "# from IPython.display import Audio, display\n",
        "#\n",
        "# print(\"Example Input Audio:\")\n",
        "# display(Audio(filename = \"input.wav\", rate=44100))\n",
        "#\n",
        "# print(\"Example Output Audio:\")\n",
        "# display(Audio(filename = \"output.wav\", rate=44100))"
      ]
    },
    {
      "cell_type": "code",
      "execution_count": 16,
      "metadata": {
        "id": "u_g5DYZzjmoN"
      },
      "outputs": [],
      "source": [
        "def add_delay_effects(audio):\n",
        "    #Q3: Your code goes here\n",
        "    original = np.concatenate([audio * 0.7, np.zeros(int(0.5 * SAMPLE_RATE))])\n",
        "    delayed = np.concatenate([np.zeros(int(0.5 * SAMPLE_RATE)), audio * 0.3])\n",
        "    delayed_audio = original + delayed\n",
        "\n",
        "    return delayed_audio"
      ]
    },
    {
      "cell_type": "markdown",
      "metadata": {
        "id": "SauRrq7ojmoO"
      },
      "source": [
        "4. Write a function that concatenates a list of audio arrays sequentially and a function that mixes audio arrays by scaling and summing them, simulating simultaneous playback\n",
        "\n",
        "`concatenate_audio()`\n",
        "- **Input**:\n",
        "  - `list_of_your_audio`: A list of NumPy arrays (e.g., `[audio1, audio2]`), each representing audio at 44100 Hz\n",
        "- **Output**: A NumPy array of the concatenated audio\n",
        "- **Example**:\n",
        "  - If `audio1` is 2 seconds (88200 samples) and `audio2` is 1 second (44100 samples), the output is 3 seconds (132300 samples)\n",
        "\n",
        "`mix_audio()`\n",
        "- **Inputs**:\n",
        "  - `list_of_your_audio`: A list of NumPy arrays (e.g., `[audio1, audio2]`), all with the same length at 44100 Hz.\n",
        "  - `amplitudes`: A list of floats (e.g., `[0.2, 0.8]`) matching the length of `list_of_your_audio`\n",
        "- **Output**: A NumPy array representing the mixed audio\n",
        "- **Example**:\n",
        "  - If `audio1` and `audio2` are 2 seconds long, and `amplitudes = [0.2, 0.8]`, the output is `0.2 * audio1 + 0.8 * audio2`"
      ]
    },
    {
      "cell_type": "code",
      "execution_count": 13,
      "metadata": {
        "id": "bZT8y5gPjmoO"
      },
      "outputs": [],
      "source": [
        "def concatenate_audio(list_of_your_audio):\n",
        "    #Q4: Your code goes here\n",
        "    return np.concatenate(list_of_your_audio)"
      ]
    },
    {
      "cell_type": "code",
      "execution_count": 14,
      "metadata": {
        "id": "5yLiIh8qjmoO"
      },
      "outputs": [],
      "source": [
        "def mix_audio(list_of_your_audio, amplitudes):\n",
        "    #Q4: Your code goes here\n",
        "    mixed_audio = np.zeros(len(list_of_your_audio[0]))\n",
        "    for i in range(len(list_of_your_audio)):\n",
        "        mixed_audio += list_of_your_audio[i] * amplitudes[i]\n",
        "    return mixed_audio"
      ]
    },
    {
      "cell_type": "markdown",
      "metadata": {
        "id": "Z1D0tiyrjmoP"
      },
      "source": [
        "5. Modify your solution to Q2 so that your pipeline can generate sawtooth waves by adding harmonics based on the following equation:\n",
        "\n",
        "$$\n",
        "    \\text{sawtooth}(f, t) = \\frac{2}{\\pi} \\sum_{k=1}^{19} \\frac{(-1)^{k+1}}{k} \\sin(2\\pi k f t)\n",
        "$$\n",
        "\n",
        "- **Inputs**:\n",
        "  - `frequency`: Fundamental frequency of sawtooth wave\n",
        "  - `duration`: A float representing the duration in seconds (e.g., 2.0)\n",
        "- **Output**: A NumPy array representing the audio waveform at a sample rate of 44100 Hz"
      ]
    },
    {
      "cell_type": "code",
      "execution_count": 20,
      "metadata": {
        "id": "FhRdFezojmoP"
      },
      "outputs": [],
      "source": [
        "def create_sawtooth_wave(frequency, duration, sample_rate=44100):\n",
        "    #Q5: Your code goes here\n",
        "    t = np.linspace(0, duration, int(duration * sample_rate), endpoint=False)\n",
        "    wave = np.zeros(len(t))\n",
        "    for k in range(1, 20):\n",
        "        wave += (-1)**(k+1) / k * np.sin(2 * np.pi * k * frequency * t)\n",
        "    wave = 2 / np.pi * wave\n",
        "\n",
        "    return wave"
      ]
    },
    {
      "cell_type": "markdown",
      "metadata": {
        "id": "00kHpDkajmoP"
      },
      "source": [
        "## Part B - Binary Classification\n",
        "Train a binary classification model using `scikit-learn` to distinguish between piano and drum MIDI files."
      ]
    },
    {
      "cell_type": "markdown",
      "metadata": {
        "id": "zV1UHo2WjmoQ"
      },
      "source": [
        "#### Unzip MIDI Files\n",
        "Extract the provided MIDI datasets:\n",
        "\n",
        "```bash\n",
        "unzip piano.zip\n",
        "unzip drums.zip\n",
        "```\n",
        "\n",
        "- `./piano`: Contains piano MIDI files (e.g., `0000.mid` to `2154.mid`)\n",
        "- `./drums`: Contains drum MIDI files (e.g., `0000.mid` to `2154.mid`)\n",
        "- Source: [Tegridy MIDI Dataset] (https://github.com/asigalov61/Tegridy-MIDI-Dataset)\n",
        "\n",
        "These folders should be extracted into the same directory as your solution file"
      ]
    },
    {
      "cell_type": "code",
      "execution_count": 22,
      "metadata": {
        "id": "nolInEzYjmoQ"
      },
      "outputs": [],
      "source": [
        "# NVM DON'T NEED THIS CELL\n",
        "\n",
        "# # comment this out when submitting to gradescope\n",
        "# %%capture\n",
        "# # ^ otherwise this prints out a long output lol\n",
        "# !unzip piano.zip\n",
        "# !unzip drums.zip"
      ]
    },
    {
      "cell_type": "markdown",
      "metadata": {
        "id": "HqQ7unqojmoQ"
      },
      "source": [
        "6. Write functions to compute simple statistics about the files\n",
        "\n",
        "####  `get_stats()`\n",
        "\n",
        "- **Inputs**:\n",
        "  - `piano_file_paths`: List of piano MIDI file paths`\n",
        "  - `drum_file_paths`: List of drum MIDI file paths`\n",
        "- **Output**: A dictionary:\n",
        "  - `\"piano_midi_num\"`: Integer, number of piano files\n",
        "  - `\"drum_midi_num\"`: Integer, number of drum files\n",
        "  - `\"average_piano_beat_num\"`: Float, average number of beats in piano files\n",
        "  - `\"average_drum_beat_num\"`: Float, average number of beats in drum files\n",
        "- **Details**:\n",
        "  - For each file:\n",
        "    - Load with `MidiFile(file_path)`\n",
        "    - Get `ticks_per_beat` from `mid.ticks_per_beat`\n",
        "    - Compute total ticks as the maximum cumulative `msg.time` (delta time) across tracks\n",
        "    - Number of beats = (total ticks / ticks_per_beat)\n",
        "  - Compute averages, handling empty lists (return 0 if no files)"
      ]
    },
    {
      "cell_type": "code",
      "execution_count": 23,
      "metadata": {
        "id": "eUb66TkmjmoQ"
      },
      "outputs": [],
      "source": [
        "def get_file_lists():\n",
        "    piano_files = sorted(glob.glob(\"./piano/*.mid\"))\n",
        "    drum_files = sorted(glob.glob(\"./drums/*.mid\"))\n",
        "    return piano_files, drum_files\n",
        "\n",
        "def get_num_beats(file_path):\n",
        "    # Q6: Your code goes here\n",
        "    mid = MidiFile(file_path)\n",
        "    # Might need: mid.tracks, msg.time, mid.ticks_per_beat\n",
        "\n",
        "    # midi files: https://mido.readthedocs.io/en/stable/files/midi.html\n",
        "    total_ticks = 0\n",
        "    for track in mid.tracks:\n",
        "        cumulative_time = 0\n",
        "        for msg in track:\n",
        "            cumulative_time += msg.time\n",
        "        total_ticks = max(total_ticks, cumulative_time)\n",
        "    nBeats = total_ticks / mid.ticks_per_beat\n",
        "\n",
        "    return nBeats\n",
        "\n",
        "def get_stats(piano_path_list, drum_path_list):\n",
        "    piano_beat_nums = []\n",
        "    drum_beat_nums = []\n",
        "    for file_path in piano_path_list:\n",
        "        piano_beat_nums.append(get_num_beats(file_path))\n",
        "\n",
        "    for file_path in drum_path_list:\n",
        "        drum_beat_nums.append(get_num_beats(file_path))\n",
        "\n",
        "    return {\"piano_midi_num\":len(piano_path_list),\n",
        "            \"drum_midi_num\":len(drum_path_list),\n",
        "            \"average_piano_beat_num\":np.average(piano_beat_nums),\n",
        "            \"average_drum_beat_num\":np.average(drum_beat_nums)}"
      ]
    },
    {
      "cell_type": "markdown",
      "metadata": {
        "id": "oZynb8_QjmoQ"
      },
      "source": [
        "7. Implement a few simple feature functions, to compute the lowest and highest MIDI note numbers in a file, and the set of unique notes in a file\n",
        "\n",
        "`get_lowest_pitch()` and `get_highest_pitch()`\n",
        "functions to find the lowest and highest MIDI note numbers in a file\n",
        "\n",
        "- **Input**: `file_path`, a string (e.g., `\"./piano/0000.mid\"`)\n",
        "- **Output**: An integer (0–127) or `None` if no notes exist\n",
        "- **Details**:\n",
        "  - Use `MidiFile(file_path)` and scan all tracks\n",
        "  - Check `msg.type == 'note_on'` and `msg.velocity > 0` for active notes\n",
        "  - Return the minimum (`get_lowest_pitch`) or maximum (`get_highest_pitch`) `msg.note`\n",
        "\n",
        "`get_unique_pitch_num()`\n",
        "a function to count unique MIDI note numbers in a file\n",
        "\n",
        "- **Input**: `file_path`, a string\n",
        "- **Output**: An integer, the number of unique pitches\n",
        "- **Details**:\n",
        "  - Collect `msg.note` from all `'note_on'` events with `msg.velocity > 0` into a set\n",
        "  - Return the set’s length\n",
        "- **Example**: For notes `[\"C4\", \"C4\", \"G4\", \"G4\", \"A4\", \"A4\", \"G4\"]`, output is 3 (unique: C4, G4, A4)"
      ]
    },
    {
      "cell_type": "code",
      "execution_count": null,
      "metadata": {
        "id": "_0gNEcrfjmoT"
      },
      "outputs": [],
      "source": [
        "def get_lowest_pitch(file_path):\n",
        "    #Q7-1: Your code goes here\n",
        "    mid = MidiFile(file_path)\n",
        "    lowest_pitch = 127 # 128-note MIDI standard range is 0-127\n",
        "    for track in mid.tracks:\n",
        "        for msg in track:\n",
        "            if msg.type == 'note_on' and msg.velocity > 0 and msg.note < lowest_pitch:\n",
        "                lowest_pitch = msg.note\n",
        "    return lowest_pitch\n",
        "\n",
        "def get_highest_pitch(file_path):\n",
        "    #Q7-2: Your code goes here\n",
        "    mid = MidiFile(file_path)\n",
        "    highest_pitch = 0\n",
        "    for track in mid.tracks:\n",
        "        for msg in track:\n",
        "            if msg.type == 'note_on' and msg.velocity > 0 and msg.note > highest_pitch:\n",
        "                highest_pitch = msg.note\n",
        "    return highest_pitch\n",
        "\n",
        "def get_unique_pitch_num(file_path):\n",
        "    #Q7-3: Your code goes here\n",
        "    mid = MidiFile(file_path)\n",
        "    pitches = set()\n",
        "    for track in mid.tracks:\n",
        "        for msg in track:\n",
        "            if msg.type == 'note_on' and msg.velocity > 0:\n",
        "                pitches.add(msg.note)\n",
        "    return len(pitches)"
      ]
    },
    {
      "cell_type": "markdown",
      "metadata": {
        "id": "CPCt7MlojmoT"
      },
      "source": [
        "8. Implement an additional feature extraction function to compute the average MIDI note number in a file\n",
        "\n",
        "`get_average_pitch_value()`\n",
        "a function to return the average MIDI note number from a file\n",
        "\n",
        "- **Input**: `file_path`, a string\n",
        "- **Output**: A float, the average value of MIDI notes in the file\n",
        "- **Details**:\n",
        "  - Collect `msg.note` from all `'note_on'` events with `msg.velocity > 0` into a set\n",
        "- **Example**: For notes `[51, 52, 53]`, output is `52`"
      ]
    },
    {
      "cell_type": "code",
      "execution_count": 24,
      "metadata": {
        "id": "yIbGVGMHjmoT"
      },
      "outputs": [],
      "source": [
        "def get_average_pitch_value(file_path):\n",
        "    #Q8: Your code goes here\n",
        "    mid = MidiFile(file_path)\n",
        "    notes = []\n",
        "    for track in mid.tracks:\n",
        "        for msg in track:\n",
        "            if msg.type == 'note_on' and msg.velocity > 0:\n",
        "                notes.append(msg.note)\n",
        "    return np.average(notes)"
      ]
    },
    {
      "cell_type": "markdown",
      "metadata": {
        "id": "5gyJpyCZjmoT"
      },
      "source": [
        "9. Construct your dataset and split it into train and test sets using `scikit-learn` (most of this code is provided). Train your model to classify whether a given file is intended for piano or drums.\n",
        "\n",
        "`featureQ9()`\n",
        "\n",
        "Returns a feature vector concatenating the four features described above\n",
        "\n",
        "- **Input**: `file_path`, a string.\n",
        "- **Output**: A vector of four features"
      ]
    },
    {
      "cell_type": "code",
      "execution_count": 25,
      "metadata": {
        "id": "-IJR7J9qjmoT"
      },
      "outputs": [],
      "source": [
        "def featureQ9(file_path):\n",
        "    # Already implemented: this one is a freebie if you got everything above correct!\n",
        "    return [get_lowest_pitch(file_path),\n",
        "            get_highest_pitch(file_path),\n",
        "            get_unique_pitch_num(file_path),\n",
        "            get_average_pitch_value(file_path)]"
      ]
    },
    {
      "cell_type": "markdown",
      "metadata": {
        "id": "XSftiTbAjmoU"
      },
      "source": [
        "10. Creatively incorporate additional features into your classifier to make your classification more accurate.  Include comments describing your solution."
      ]
    },
    {
      "cell_type": "code",
      "execution_count": 26,
      "metadata": {
        "id": "W08pZL52jmoU"
      },
      "outputs": [],
      "source": [
        "# I get the impression that drum pieces are a lot faster than\n",
        "# piano pieces so they might have a higher average notes/sec\n",
        "def get_average_notes_per_sec(file_path):\n",
        "  mid = MidiFile(file_path)\n",
        "  num_notes = 0\n",
        "  for track in mid.tracks:\n",
        "    for msg in track:\n",
        "      if msg.type == 'note_on' and msg.velocity > 0:\n",
        "        num_notes += 1\n",
        "  return num_notes / mid.length\n",
        "\n",
        "# Drum pieces feel a lot more intense and loud than piano pieces,\n",
        "# so this could be helpful information since higher average\n",
        "# note velocity could indicate drums\n",
        "def get_average_note_velocity(file_path):\n",
        "  mid = MidiFile(file_path)\n",
        "  num_notes = 0\n",
        "  total_velocity = 0\n",
        "  for track in mid.tracks:\n",
        "    for msg in track:\n",
        "      if msg.type == 'note_on' and msg.velocity > 0:\n",
        "        num_notes += 1\n",
        "        total_velocity += msg.velocity\n",
        "  return total_velocity / num_notes\n",
        "\n",
        "def featureQ10(file_path):\n",
        "    #Q10: Your code goes here\n",
        "    return [get_lowest_pitch(file_path),\n",
        "            get_highest_pitch(file_path),\n",
        "            get_unique_pitch_num(file_path),\n",
        "            get_average_pitch_value(file_path),\n",
        "            get_average_notes_per_sec(file_path),\n",
        "            get_average_note_velocity(file_path)]"
      ]
    },
    {
      "cell_type": "code",
      "execution_count": null,
      "metadata": {
        "id": "wUWNtzMYjmoU"
      },
      "outputs": [],
      "source": []
    }
  ],
  "metadata": {
    "colab": {
      "provenance": []
    },
    "kernelspec": {
      "display_name": "Python 3 (ipykernel)",
      "language": "python",
      "name": "python3"
    },
    "language_info": {
      "codemirror_mode": {
        "name": "ipython",
        "version": 3
      },
      "file_extension": ".py",
      "mimetype": "text/x-python",
      "name": "python",
      "nbconvert_exporter": "python",
      "pygments_lexer": "ipython3",
      "version": "3.10.12"
    }
  },
  "nbformat": 4,
  "nbformat_minor": 0
}
